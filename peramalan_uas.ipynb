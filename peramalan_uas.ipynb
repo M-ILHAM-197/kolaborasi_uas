{
  "cells": [
    {
      "cell_type": "markdown",
      "metadata": {
        "id": "A1cEn1W3DSC0"
      },
      "source": [
        "Nama : M Ilham Anggis Bangkit Pamungkas\n",
        "NIM  : 200411100197\n",
        "Nama : 200411100181"
      ]
    },
    {
      "cell_type": "code",
      "execution_count": 1,
      "metadata": {
        "colab": {
          "base_uri": "https://localhost:8080/"
        },
        "id": "6xS2RvgPDSDB",
        "outputId": "81bb87fb-afc3-42ff-bf53-e3df88c59098"
      },
      "outputs": [
        {
          "output_type": "stream",
          "name": "stdout",
          "text": [
            "Looking in indexes: https://pypi.org/simple, https://us-python.pkg.dev/colab-wheels/public/simple/\n",
            "Requirement already satisfied: pandas in /usr/local/lib/python3.10/dist-packages (1.5.3)\n",
            "Requirement already satisfied: python-dateutil>=2.8.1 in /usr/local/lib/python3.10/dist-packages (from pandas) (2.8.2)\n",
            "Requirement already satisfied: pytz>=2020.1 in /usr/local/lib/python3.10/dist-packages (from pandas) (2022.7.1)\n",
            "Requirement already satisfied: numpy>=1.21.0 in /usr/local/lib/python3.10/dist-packages (from pandas) (1.22.4)\n",
            "Requirement already satisfied: six>=1.5 in /usr/local/lib/python3.10/dist-packages (from python-dateutil>=2.8.1->pandas) (1.16.0)\n",
            "Looking in indexes: https://pypi.org/simple, https://us-python.pkg.dev/colab-wheels/public/simple/\n",
            "Requirement already satisfied: scikit-learn in /usr/local/lib/python3.10/dist-packages (1.2.2)\n",
            "Requirement already satisfied: numpy>=1.17.3 in /usr/local/lib/python3.10/dist-packages (from scikit-learn) (1.22.4)\n",
            "Requirement already satisfied: scipy>=1.3.2 in /usr/local/lib/python3.10/dist-packages (from scikit-learn) (1.10.1)\n",
            "Requirement already satisfied: joblib>=1.1.1 in /usr/local/lib/python3.10/dist-packages (from scikit-learn) (1.2.0)\n",
            "Requirement already satisfied: threadpoolctl>=2.0.0 in /usr/local/lib/python3.10/dist-packages (from scikit-learn) (3.1.0)\n",
            "Looking in indexes: https://pypi.org/simple, https://us-python.pkg.dev/colab-wheels/public/simple/\n",
            "Requirement already satisfied: openpyxl in /usr/local/lib/python3.10/dist-packages (3.0.10)\n",
            "Requirement already satisfied: et-xmlfile in /usr/local/lib/python3.10/dist-packages (from openpyxl) (1.1.0)\n"
          ]
        }
      ],
      "source": [
        "!pip install pandas\n",
        "!pip install scikit-learn\n",
        "!pip install openpyxl"
      ]
    },
    {
      "cell_type": "code",
      "execution_count": null,
      "metadata": {
        "id": "nrTgvUIrDSDG"
      },
      "outputs": [],
      "source": [
        "import pandas as pd\n",
        "\n",
        "df = pd.read_csv('BBRI.JK.csv')\n",
        "df"
      ]
    },
    {
      "cell_type": "code",
      "execution_count": 95,
      "metadata": {
        "colab": {
          "base_uri": "https://localhost:8080/"
        },
        "id": "o1bZCyrZDSDI",
        "outputId": "8e3240e6-6dc3-4203-b483-fd6a83042fed"
      },
      "outputs": [
        {
          "output_type": "execute_result",
          "data": {
            "text/plain": [
              "0      160729900\n",
              "1      240023000\n",
              "2      185763100\n",
              "3       95058800\n",
              "4      103964600\n",
              "         ...    \n",
              "243     77251000\n",
              "244     92314200\n",
              "245    108831400\n",
              "246     79137600\n",
              "247     17404500\n",
              "Name: Volume, Length: 248, dtype: int64"
            ]
          },
          "metadata": {},
          "execution_count": 95
        }
      ],
      "source": [
        "data = df['Volume']\n",
        "data"
      ]
    },
    {
      "cell_type": "code",
      "execution_count": 96,
      "metadata": {
        "colab": {
          "base_uri": "https://localhost:8080/",
          "height": 424
        },
        "id": "Y2b5uKULDSDJ",
        "outputId": "c92f82ed-0673-4fa9-9273-3dc661e0d67b"
      },
      "outputs": [
        {
          "output_type": "execute_result",
          "data": {
            "text/plain": [
              "        Volume\n",
              "0    160729900\n",
              "1    240023000\n",
              "2    185763100\n",
              "3     95058800\n",
              "4    103964600\n",
              "..         ...\n",
              "193  107761200\n",
              "194  155984500\n",
              "195  267753300\n",
              "196  113829400\n",
              "197  214639300\n",
              "\n",
              "[198 rows x 1 columns]"
            ],
            "text/html": [
              "\n",
              "  <div id=\"df-8b3ca101-6997-4733-9c5f-2c66d2cb5dcb\">\n",
              "    <div class=\"colab-df-container\">\n",
              "      <div>\n",
              "<style scoped>\n",
              "    .dataframe tbody tr th:only-of-type {\n",
              "        vertical-align: middle;\n",
              "    }\n",
              "\n",
              "    .dataframe tbody tr th {\n",
              "        vertical-align: top;\n",
              "    }\n",
              "\n",
              "    .dataframe thead th {\n",
              "        text-align: right;\n",
              "    }\n",
              "</style>\n",
              "<table border=\"1\" class=\"dataframe\">\n",
              "  <thead>\n",
              "    <tr style=\"text-align: right;\">\n",
              "      <th></th>\n",
              "      <th>Volume</th>\n",
              "    </tr>\n",
              "  </thead>\n",
              "  <tbody>\n",
              "    <tr>\n",
              "      <th>0</th>\n",
              "      <td>160729900</td>\n",
              "    </tr>\n",
              "    <tr>\n",
              "      <th>1</th>\n",
              "      <td>240023000</td>\n",
              "    </tr>\n",
              "    <tr>\n",
              "      <th>2</th>\n",
              "      <td>185763100</td>\n",
              "    </tr>\n",
              "    <tr>\n",
              "      <th>3</th>\n",
              "      <td>95058800</td>\n",
              "    </tr>\n",
              "    <tr>\n",
              "      <th>4</th>\n",
              "      <td>103964600</td>\n",
              "    </tr>\n",
              "    <tr>\n",
              "      <th>...</th>\n",
              "      <td>...</td>\n",
              "    </tr>\n",
              "    <tr>\n",
              "      <th>193</th>\n",
              "      <td>107761200</td>\n",
              "    </tr>\n",
              "    <tr>\n",
              "      <th>194</th>\n",
              "      <td>155984500</td>\n",
              "    </tr>\n",
              "    <tr>\n",
              "      <th>195</th>\n",
              "      <td>267753300</td>\n",
              "    </tr>\n",
              "    <tr>\n",
              "      <th>196</th>\n",
              "      <td>113829400</td>\n",
              "    </tr>\n",
              "    <tr>\n",
              "      <th>197</th>\n",
              "      <td>214639300</td>\n",
              "    </tr>\n",
              "  </tbody>\n",
              "</table>\n",
              "<p>198 rows × 1 columns</p>\n",
              "</div>\n",
              "      <button class=\"colab-df-convert\" onclick=\"convertToInteractive('df-8b3ca101-6997-4733-9c5f-2c66d2cb5dcb')\"\n",
              "              title=\"Convert this dataframe to an interactive table.\"\n",
              "              style=\"display:none;\">\n",
              "        \n",
              "  <svg xmlns=\"http://www.w3.org/2000/svg\" height=\"24px\"viewBox=\"0 0 24 24\"\n",
              "       width=\"24px\">\n",
              "    <path d=\"M0 0h24v24H0V0z\" fill=\"none\"/>\n",
              "    <path d=\"M18.56 5.44l.94 2.06.94-2.06 2.06-.94-2.06-.94-.94-2.06-.94 2.06-2.06.94zm-11 1L8.5 8.5l.94-2.06 2.06-.94-2.06-.94L8.5 2.5l-.94 2.06-2.06.94zm10 10l.94 2.06.94-2.06 2.06-.94-2.06-.94-.94-2.06-.94 2.06-2.06.94z\"/><path d=\"M17.41 7.96l-1.37-1.37c-.4-.4-.92-.59-1.43-.59-.52 0-1.04.2-1.43.59L10.3 9.45l-7.72 7.72c-.78.78-.78 2.05 0 2.83L4 21.41c.39.39.9.59 1.41.59.51 0 1.02-.2 1.41-.59l7.78-7.78 2.81-2.81c.8-.78.8-2.07 0-2.86zM5.41 20L4 18.59l7.72-7.72 1.47 1.35L5.41 20z\"/>\n",
              "  </svg>\n",
              "      </button>\n",
              "      \n",
              "  <style>\n",
              "    .colab-df-container {\n",
              "      display:flex;\n",
              "      flex-wrap:wrap;\n",
              "      gap: 12px;\n",
              "    }\n",
              "\n",
              "    .colab-df-convert {\n",
              "      background-color: #E8F0FE;\n",
              "      border: none;\n",
              "      border-radius: 50%;\n",
              "      cursor: pointer;\n",
              "      display: none;\n",
              "      fill: #1967D2;\n",
              "      height: 32px;\n",
              "      padding: 0 0 0 0;\n",
              "      width: 32px;\n",
              "    }\n",
              "\n",
              "    .colab-df-convert:hover {\n",
              "      background-color: #E2EBFA;\n",
              "      box-shadow: 0px 1px 2px rgba(60, 64, 67, 0.3), 0px 1px 3px 1px rgba(60, 64, 67, 0.15);\n",
              "      fill: #174EA6;\n",
              "    }\n",
              "\n",
              "    [theme=dark] .colab-df-convert {\n",
              "      background-color: #3B4455;\n",
              "      fill: #D2E3FC;\n",
              "    }\n",
              "\n",
              "    [theme=dark] .colab-df-convert:hover {\n",
              "      background-color: #434B5C;\n",
              "      box-shadow: 0px 1px 3px 1px rgba(0, 0, 0, 0.15);\n",
              "      filter: drop-shadow(0px 1px 2px rgba(0, 0, 0, 0.3));\n",
              "      fill: #FFFFFF;\n",
              "    }\n",
              "  </style>\n",
              "\n",
              "      <script>\n",
              "        const buttonEl =\n",
              "          document.querySelector('#df-8b3ca101-6997-4733-9c5f-2c66d2cb5dcb button.colab-df-convert');\n",
              "        buttonEl.style.display =\n",
              "          google.colab.kernel.accessAllowed ? 'block' : 'none';\n",
              "\n",
              "        async function convertToInteractive(key) {\n",
              "          const element = document.querySelector('#df-8b3ca101-6997-4733-9c5f-2c66d2cb5dcb');\n",
              "          const dataTable =\n",
              "            await google.colab.kernel.invokeFunction('convertToInteractive',\n",
              "                                                     [key], {});\n",
              "          if (!dataTable) return;\n",
              "\n",
              "          const docLinkHtml = 'Like what you see? Visit the ' +\n",
              "            '<a target=\"_blank\" href=https://colab.research.google.com/notebooks/data_table.ipynb>data table notebook</a>'\n",
              "            + ' to learn more about interactive tables.';\n",
              "          element.innerHTML = '';\n",
              "          dataTable['output_type'] = 'display_data';\n",
              "          await google.colab.output.renderOutput(dataTable, element);\n",
              "          const docLink = document.createElement('div');\n",
              "          docLink.innerHTML = docLinkHtml;\n",
              "          element.appendChild(docLink);\n",
              "        }\n",
              "      </script>\n",
              "    </div>\n",
              "  </div>\n",
              "  "
            ]
          },
          "metadata": {},
          "execution_count": 96
        }
      ],
      "source": [
        "n = len(data)\n",
        "sizeTrain = (round(n*0.8))\n",
        "data_train = pd.DataFrame(data[:sizeTrain])\n",
        "data_test = pd.DataFrame(data[sizeTrain:])\n",
        "data_train"
      ]
    },
    {
      "cell_type": "code",
      "execution_count": 97,
      "metadata": {
        "colab": {
          "base_uri": "https://localhost:8080/"
        },
        "id": "SE6yYDdbDSDK",
        "outputId": "84cb255b-b6aa-4370-ae8a-3e8fac6d3ee8"
      },
      "outputs": [
        {
          "output_type": "execute_result",
          "data": {
            "text/plain": [
              "0      0.212603\n",
              "1      0.356505\n",
              "2      0.258034\n",
              "3      0.093422\n",
              "4      0.109585\n",
              "         ...   \n",
              "193    0.116475\n",
              "194    0.203991\n",
              "195    0.406831\n",
              "196    0.127488\n",
              "197    0.310439\n",
              "Name: data, Length: 198, dtype: float64"
            ]
          },
          "metadata": {},
          "execution_count": 97
        }
      ],
      "source": [
        "from sklearn.preprocessing import MinMaxScaler\n",
        "scaler = MinMaxScaler()\n",
        "train_scaled = scaler.fit_transform(data_train)\n",
        "test_scaled = scaler.transform(data_test)\n",
        "\n",
        "train = pd.DataFrame(train_scaled, columns = ['data'])\n",
        "train = train['data']\n",
        "\n",
        "test = pd.DataFrame(test_scaled, columns = ['data'])\n",
        "test = test['data']\n",
        "train\n"
      ]
    },
    {
      "cell_type": "code",
      "source": [
        "test"
      ],
      "metadata": {
        "colab": {
          "base_uri": "https://localhost:8080/"
        },
        "id": "oSV71bv5EqE1",
        "outputId": "2c8a5285-f6e2-4d89-83a8-20812991b4c7"
      },
      "execution_count": 98,
      "outputs": [
        {
          "output_type": "execute_result",
          "data": {
            "text/plain": [
              "0     0.403837\n",
              "1     0.183921\n",
              "2     0.111858\n",
              "3     0.178250\n",
              "4     0.100298\n",
              "5     0.214113\n",
              "6     0.163207\n",
              "7     0.080790\n",
              "8     0.137446\n",
              "9     0.080634\n",
              "10    0.027777\n",
              "11    0.043001\n",
              "12    0.274507\n",
              "13    0.177305\n",
              "14    0.265899\n",
              "15    0.140921\n",
              "16    0.094673\n",
              "17    0.416962\n",
              "18    0.149479\n",
              "19    0.378082\n",
              "20    0.073799\n",
              "21    0.253972\n",
              "22    0.175857\n",
              "23    0.252293\n",
              "24    0.116553\n",
              "25    0.107811\n",
              "26    0.117579\n",
              "27    0.076291\n",
              "28    0.089007\n",
              "29    0.218053\n",
              "30    0.054499\n",
              "31    0.131126\n",
              "32    0.257869\n",
              "33    0.216099\n",
              "34    0.384142\n",
              "35    0.261070\n",
              "36    0.328138\n",
              "37    0.200395\n",
              "38    0.147849\n",
              "39    0.043160\n",
              "40    1.551434\n",
              "41    0.384544\n",
              "42    0.087906\n",
              "43    0.193815\n",
              "44    0.089312\n",
              "45    0.061105\n",
              "46    0.088441\n",
              "47    0.118417\n",
              "48    0.064528\n",
              "49   -0.047506\n",
              "Name: data, dtype: float64"
            ]
          },
          "metadata": {},
          "execution_count": 98
        }
      ]
    },
    {
      "cell_type": "code",
      "execution_count": 99,
      "metadata": {
        "id": "RqADYJ-sDSDM"
      },
      "outputs": [],
      "source": [
        "from numpy import array\n",
        "\n",
        "def split_sequence(sequence, n_steps):\n",
        "  X, y = list(), list()\n",
        "  for i in range(len(sequence)):\n",
        "    # find the end of this pattern\n",
        "    end_ix = i + n_steps\n",
        "    # check if we are beyond the sequence\n",
        "    if end_ix > len(sequence)-1:\n",
        "      break\n",
        "    # gather input and output parts of the pattern\n",
        "    seq_x, seq_y = sequence[i:end_ix], sequence[end_ix]\n",
        "    X.append(seq_x)\n",
        "    y.append(seq_y)\n",
        "\n",
        "  return array(X), array(y)"
      ]
    },
    {
      "cell_type": "code",
      "execution_count": 100,
      "metadata": {
        "id": "Y9nkkzmCDSDO"
      },
      "outputs": [],
      "source": [
        "import numpy\n",
        "from numpy import  array"
      ]
    },
    {
      "cell_type": "code",
      "execution_count": 101,
      "metadata": {
        "id": "SHoWuiBcDSDQ"
      },
      "outputs": [],
      "source": [
        "from numpy import array\n",
        "X, Y = split_sequence(train, 2)\n",
        "# for i in range(len(df_X)):\n",
        "#   print(df_X[i], df_Y[i])\n",
        "x = pd.DataFrame(X, columns = ['xt-2','xt-1'])\n",
        "y = pd.DataFrame(Y, columns = ['xt'])\n",
        "dataset_train = pd.concat([x, y], axis=1)\n",
        "dataset_train\n",
        "dataset_train.to_excel('data-train.xlsx', index=False)"
      ]
    },
    {
      "cell_type": "code",
      "execution_count": 102,
      "metadata": {
        "colab": {
          "base_uri": "https://localhost:8080/"
        },
        "id": "hWyCFIXYDSDS",
        "outputId": "ec4e9231-a030-4a59-b806-f41869b5f25a"
      },
      "outputs": [
        {
          "output_type": "execute_result",
          "data": {
            "text/plain": [
              "array([[0.21260323, 0.35650542],\n",
              "       [0.35650542, 0.25803382],\n",
              "       [0.25803382, 0.09342243],\n",
              "       [0.09342243, 0.10958479],\n",
              "       [0.10958479, 0.11365705],\n",
              "       [0.11365705, 0.15247991],\n",
              "       [0.15247991, 0.04083839],\n",
              "       [0.04083839, 0.1973156 ],\n",
              "       [0.1973156 , 0.24491761],\n",
              "       [0.24491761, 0.33565884],\n",
              "       [0.33565884, 0.35635315],\n",
              "       [0.35635315, 0.20158658],\n",
              "       [0.20158658, 0.36890168],\n",
              "       [0.36890168, 0.24875159],\n",
              "       [0.24875159, 0.14832108],\n",
              "       [0.14832108, 0.23328775],\n",
              "       [0.23328775, 0.12582628],\n",
              "       [0.12582628, 0.06766823],\n",
              "       [0.06766823, 0.02269261],\n",
              "       [0.02269261, 0.22170506],\n",
              "       [0.22170506, 0.26341764],\n",
              "       [0.26341764, 0.08671488],\n",
              "       [0.08671488, 0.16642457],\n",
              "       [0.16642457, 0.14395972],\n",
              "       [0.14395972, 0.3205732 ],\n",
              "       [0.3205732 , 0.15756991],\n",
              "       [0.15756991, 0.07800069],\n",
              "       [0.07800069, 0.0315264 ],\n",
              "       [0.0315264 , 0.0982335 ],\n",
              "       [0.0982335 , 0.08164792],\n",
              "       [0.08164792, 0.16848783],\n",
              "       [0.16848783, 0.33590075],\n",
              "       [0.33590075, 0.28530792],\n",
              "       [0.28530792, 0.23656076],\n",
              "       [0.23656076, 0.10858247],\n",
              "       [0.10858247, 0.13900492],\n",
              "       [0.13900492, 0.22739305],\n",
              "       [0.22739305, 0.11553375],\n",
              "       [0.11553375, 0.25074553],\n",
              "       [0.25074553, 0.29356424],\n",
              "       [0.29356424, 0.27176451],\n",
              "       [0.27176451, 0.10949786],\n",
              "       [0.10949786, 0.16608865],\n",
              "       [0.16608865, 0.29372993],\n",
              "       [0.29372993, 0.17279602],\n",
              "       [0.17279602, 0.07435472],\n",
              "       [0.07435472, 0.14072663],\n",
              "       [0.14072663, 0.11654442],\n",
              "       [0.11654442, 0.05712089],\n",
              "       [0.05712089, 0.13442814],\n",
              "       [0.13442814, 0.07947812],\n",
              "       [0.07947812, 0.08135573],\n",
              "       [0.08135573, 0.20623251],\n",
              "       [0.20623251, 0.26840112],\n",
              "       [0.26840112, 0.17485402],\n",
              "       [0.17485402, 0.32128642],\n",
              "       [0.32128642, 0.39480452],\n",
              "       [0.39480452, 0.26217087],\n",
              "       [0.26217087, 0.34183029],\n",
              "       [0.34183029, 0.3752891 ],\n",
              "       [0.3752891 , 0.13739155],\n",
              "       [0.13739155, 0.09873838],\n",
              "       [0.09873838, 0.17830125],\n",
              "       [0.17830125, 0.19305896],\n",
              "       [0.19305896, 0.45748364],\n",
              "       [0.45748364, 0.4335791 ],\n",
              "       [0.4335791 , 0.16487744],\n",
              "       [0.16487744, 0.1726149 ],\n",
              "       [0.1726149 , 0.21123667],\n",
              "       [0.21123667, 0.10316162],\n",
              "       [0.10316162, 0.17330181],\n",
              "       [0.17330181, 0.43041279],\n",
              "       [0.43041279, 0.30874243],\n",
              "       [0.30874243, 0.21457303],\n",
              "       [0.21457303, 0.22828086],\n",
              "       [0.22828086, 0.32784262],\n",
              "       [0.32784262, 0.21047935],\n",
              "       [0.21047935, 0.38616691],\n",
              "       [0.38616691, 0.2516513 ],\n",
              "       [0.2516513 , 0.14475878],\n",
              "       [0.14475878, 0.16351016],\n",
              "       [0.16351016, 0.2728436 ],\n",
              "       [0.2728436 , 0.16362558],\n",
              "       [0.16362558, 0.15455079],\n",
              "       [0.15455079, 0.11013886],\n",
              "       [0.11013886, 0.2491013 ],\n",
              "       [0.2491013 , 0.18497469],\n",
              "       [0.18497469, 0.21389937],\n",
              "       [0.21389937, 0.06914657],\n",
              "       [0.06914657, 0.19226243],\n",
              "       [0.19226243, 0.2204474 ],\n",
              "       [0.2204474 , 0.26027439],\n",
              "       [0.26027439, 0.34548188],\n",
              "       [0.34548188, 0.24448696],\n",
              "       [0.24448696, 0.15934825],\n",
              "       [0.15934825, 0.33333642],\n",
              "       [0.33333642, 0.42031608],\n",
              "       [0.42031608, 0.33938664],\n",
              "       [0.33938664, 0.21820556],\n",
              "       [0.21820556, 0.23745365],\n",
              "       [0.23745365, 0.07569805],\n",
              "       [0.07569805, 0.12429549],\n",
              "       [0.12429549, 0.06775643],\n",
              "       [0.06775643, 0.15047127],\n",
              "       [0.15047127, 0.27711531],\n",
              "       [0.27711531, 0.19900773],\n",
              "       [0.19900773, 0.17532278],\n",
              "       [0.17532278, 0.08058716],\n",
              "       [0.08058716, 0.36696999],\n",
              "       [0.36696999, 0.31021243],\n",
              "       [0.31021243, 0.11203225],\n",
              "       [0.11203225, 0.07023002],\n",
              "       [0.07023002, 0.20196134],\n",
              "       [0.20196134, 0.18819526],\n",
              "       [0.18819526, 0.2053545 ],\n",
              "       [0.2053545 , 0.24369316],\n",
              "       [0.24369316, 0.31038846],\n",
              "       [0.31038846, 0.25649703],\n",
              "       [0.25649703, 0.93836512],\n",
              "       [0.93836512, 0.40615799],\n",
              "       [0.40615799, 0.28383738],\n",
              "       [0.28383738, 0.08145228],\n",
              "       [0.08145228, 0.19553563],\n",
              "       [0.19553563, 0.38065532],\n",
              "       [0.38065532, 0.20095938],\n",
              "       [0.20095938, 0.29035565],\n",
              "       [0.29035565, 0.17422446],\n",
              "       [0.17422446, 0.27340547],\n",
              "       [0.27340547, 0.28618647],\n",
              "       [0.28618647, 0.23070127],\n",
              "       [0.23070127, 1.        ],\n",
              "       [1.        , 0.071465  ],\n",
              "       [0.071465  , 0.06368271],\n",
              "       [0.06368271, 0.05026435],\n",
              "       [0.05026435, 0.07938049],\n",
              "       [0.07938049, 0.01772982],\n",
              "       [0.01772982, 0.        ],\n",
              "       [0.        , 0.05542931],\n",
              "       [0.05542931, 0.13489763],\n",
              "       [0.13489763, 0.11453216],\n",
              "       [0.11453216, 0.25137055],\n",
              "       [0.25137055, 0.10275293],\n",
              "       [0.10275293, 0.09356344],\n",
              "       [0.09356344, 0.26222222],\n",
              "       [0.26222222, 0.45109168],\n",
              "       [0.45109168, 0.2401922 ],\n",
              "       [0.2401922 , 0.22246674],\n",
              "       [0.22246674, 0.4336114 ],\n",
              "       [0.4336114 , 0.3049413 ],\n",
              "       [0.3049413 , 0.30363046],\n",
              "       [0.30363046, 0.16516799],\n",
              "       [0.16516799, 0.23336651],\n",
              "       [0.23336651, 0.19417833],\n",
              "       [0.19417833, 0.24399242],\n",
              "       [0.24399242, 0.13361202],\n",
              "       [0.13361202, 0.13149631],\n",
              "       [0.13149631, 0.06965908],\n",
              "       [0.06965908, 0.07336964],\n",
              "       [0.07336964, 0.12750753],\n",
              "       [0.12750753, 0.2444581 ],\n",
              "       [0.2444581 , 0.25841366],\n",
              "       [0.25841366, 0.42912736],\n",
              "       [0.42912736, 0.250931  ],\n",
              "       [0.250931  , 0.18480664],\n",
              "       [0.18480664, 0.28111244],\n",
              "       [0.28111244, 0.1774619 ],\n",
              "       [0.1774619 , 0.17665758],\n",
              "       [0.17665758, 0.22688508],\n",
              "       [0.22688508, 0.24285762],\n",
              "       [0.24285762, 0.24965573],\n",
              "       [0.24965573, 0.18327493],\n",
              "       [0.18327493, 0.14049216],\n",
              "       [0.14049216, 0.07438376],\n",
              "       [0.07438376, 0.04788404],\n",
              "       [0.04788404, 0.10968406],\n",
              "       [0.10968406, 0.08139693],\n",
              "       [0.08139693, 0.02856154],\n",
              "       [0.02856154, 0.11568855],\n",
              "       [0.11568855, 0.17342975],\n",
              "       [0.17342975, 0.00513266],\n",
              "       [0.00513266, 0.08409428],\n",
              "       [0.08409428, 0.41658028],\n",
              "       [0.41658028, 0.13066204],\n",
              "       [0.13066204, 0.02866825],\n",
              "       [0.02866825, 0.07476288],\n",
              "       [0.07476288, 0.06299381],\n",
              "       [0.06299381, 0.12408352],\n",
              "       [0.12408352, 0.14915045],\n",
              "       [0.14915045, 0.06527648],\n",
              "       [0.06527648, 0.1480151 ],\n",
              "       [0.1480151 , 0.1146748 ],\n",
              "       [0.1146748 , 0.27015913],\n",
              "       [0.27015913, 0.11647491],\n",
              "       [0.11647491, 0.20399121],\n",
              "       [0.20399121, 0.40683074],\n",
              "       [0.40683074, 0.12748756]])"
            ]
          },
          "metadata": {},
          "execution_count": 102
        }
      ],
      "source": [
        "X_train = dataset_train.iloc[:, :2].values\n",
        "Y_train = dataset_train.iloc[:, -1].values\n",
        "X_train"
      ]
    },
    {
      "cell_type": "code",
      "execution_count": 103,
      "metadata": {
        "id": "Z1EP6YBZDSDT"
      },
      "outputs": [],
      "source": [
        "test_x, test_y = split_sequence(test, 2)\n",
        "# for i in range(len(test_x)):\n",
        "#   print(test_x[i], test_y[i])\n",
        "x = pd.DataFrame(test_x, columns = ['xt-2','xt-1'])\n",
        "y = pd.DataFrame(test_y, columns = ['xt'])\n",
        "dataset_test = pd.concat([x, y], axis=1)\n",
        "dataset_test\n",
        "dataset_test.to_excel('data-test.xlsx', index=False)"
      ]
    },
    {
      "cell_type": "code",
      "execution_count": 104,
      "metadata": {
        "colab": {
          "base_uri": "https://localhost:8080/"
        },
        "id": "WkpXOdCQDSDU",
        "outputId": "ff5325fd-042b-46c5-d5c7-eaf60c4bbd30"
      },
      "outputs": [
        {
          "output_type": "stream",
          "name": "stdout",
          "text": [
            "48\n"
          ]
        }
      ],
      "source": [
        "X_test = dataset_test.iloc[:, :2].values\n",
        "Y_test = dataset_test.iloc[:, -1].values\n",
        "print(len(X_test))"
      ]
    },
    {
      "cell_type": "code",
      "execution_count": 105,
      "metadata": {
        "colab": {
          "base_uri": "https://localhost:8080/",
          "height": 75
        },
        "id": "5Jy-A5DoDSDU",
        "outputId": "ae49c488-f205-4d50-d51f-5c2469b7d41d"
      },
      "outputs": [
        {
          "output_type": "execute_result",
          "data": {
            "text/plain": [
              "KNeighborsRegressor(n_neighbors=3)"
            ],
            "text/html": [
              "<style>#sk-container-id-3 {color: black;background-color: white;}#sk-container-id-3 pre{padding: 0;}#sk-container-id-3 div.sk-toggleable {background-color: white;}#sk-container-id-3 label.sk-toggleable__label {cursor: pointer;display: block;width: 100%;margin-bottom: 0;padding: 0.3em;box-sizing: border-box;text-align: center;}#sk-container-id-3 label.sk-toggleable__label-arrow:before {content: \"▸\";float: left;margin-right: 0.25em;color: #696969;}#sk-container-id-3 label.sk-toggleable__label-arrow:hover:before {color: black;}#sk-container-id-3 div.sk-estimator:hover label.sk-toggleable__label-arrow:before {color: black;}#sk-container-id-3 div.sk-toggleable__content {max-height: 0;max-width: 0;overflow: hidden;text-align: left;background-color: #f0f8ff;}#sk-container-id-3 div.sk-toggleable__content pre {margin: 0.2em;color: black;border-radius: 0.25em;background-color: #f0f8ff;}#sk-container-id-3 input.sk-toggleable__control:checked~div.sk-toggleable__content {max-height: 200px;max-width: 100%;overflow: auto;}#sk-container-id-3 input.sk-toggleable__control:checked~label.sk-toggleable__label-arrow:before {content: \"▾\";}#sk-container-id-3 div.sk-estimator input.sk-toggleable__control:checked~label.sk-toggleable__label {background-color: #d4ebff;}#sk-container-id-3 div.sk-label input.sk-toggleable__control:checked~label.sk-toggleable__label {background-color: #d4ebff;}#sk-container-id-3 input.sk-hidden--visually {border: 0;clip: rect(1px 1px 1px 1px);clip: rect(1px, 1px, 1px, 1px);height: 1px;margin: -1px;overflow: hidden;padding: 0;position: absolute;width: 1px;}#sk-container-id-3 div.sk-estimator {font-family: monospace;background-color: #f0f8ff;border: 1px dotted black;border-radius: 0.25em;box-sizing: border-box;margin-bottom: 0.5em;}#sk-container-id-3 div.sk-estimator:hover {background-color: #d4ebff;}#sk-container-id-3 div.sk-parallel-item::after {content: \"\";width: 100%;border-bottom: 1px solid gray;flex-grow: 1;}#sk-container-id-3 div.sk-label:hover label.sk-toggleable__label {background-color: #d4ebff;}#sk-container-id-3 div.sk-serial::before {content: \"\";position: absolute;border-left: 1px solid gray;box-sizing: border-box;top: 0;bottom: 0;left: 50%;z-index: 0;}#sk-container-id-3 div.sk-serial {display: flex;flex-direction: column;align-items: center;background-color: white;padding-right: 0.2em;padding-left: 0.2em;position: relative;}#sk-container-id-3 div.sk-item {position: relative;z-index: 1;}#sk-container-id-3 div.sk-parallel {display: flex;align-items: stretch;justify-content: center;background-color: white;position: relative;}#sk-container-id-3 div.sk-item::before, #sk-container-id-3 div.sk-parallel-item::before {content: \"\";position: absolute;border-left: 1px solid gray;box-sizing: border-box;top: 0;bottom: 0;left: 50%;z-index: -1;}#sk-container-id-3 div.sk-parallel-item {display: flex;flex-direction: column;z-index: 1;position: relative;background-color: white;}#sk-container-id-3 div.sk-parallel-item:first-child::after {align-self: flex-end;width: 50%;}#sk-container-id-3 div.sk-parallel-item:last-child::after {align-self: flex-start;width: 50%;}#sk-container-id-3 div.sk-parallel-item:only-child::after {width: 0;}#sk-container-id-3 div.sk-dashed-wrapped {border: 1px dashed gray;margin: 0 0.4em 0.5em 0.4em;box-sizing: border-box;padding-bottom: 0.4em;background-color: white;}#sk-container-id-3 div.sk-label label {font-family: monospace;font-weight: bold;display: inline-block;line-height: 1.2em;}#sk-container-id-3 div.sk-label-container {text-align: center;}#sk-container-id-3 div.sk-container {/* jupyter's `normalize.less` sets `[hidden] { display: none; }` but bootstrap.min.css set `[hidden] { display: none !important; }` so we also need the `!important` here to be able to override the default hidden behavior on the sphinx rendered scikit-learn.org. See: https://github.com/scikit-learn/scikit-learn/issues/21755 */display: inline-block !important;position: relative;}#sk-container-id-3 div.sk-text-repr-fallback {display: none;}</style><div id=\"sk-container-id-3\" class=\"sk-top-container\"><div class=\"sk-text-repr-fallback\"><pre>KNeighborsRegressor(n_neighbors=3)</pre><b>In a Jupyter environment, please rerun this cell to show the HTML representation or trust the notebook. <br />On GitHub, the HTML representation is unable to render, please try loading this page with nbviewer.org.</b></div><div class=\"sk-container\" hidden><div class=\"sk-item\"><div class=\"sk-estimator sk-toggleable\"><input class=\"sk-toggleable__control sk-hidden--visually\" id=\"sk-estimator-id-3\" type=\"checkbox\" checked><label for=\"sk-estimator-id-3\" class=\"sk-toggleable__label sk-toggleable__label-arrow\">KNeighborsRegressor</label><div class=\"sk-toggleable__content\"><pre>KNeighborsRegressor(n_neighbors=3)</pre></div></div></div></div></div>"
            ]
          },
          "metadata": {},
          "execution_count": 105
        }
      ],
      "source": [
        "from sklearn.neighbors import KNeighborsRegressor\n",
        "neigh = KNeighborsRegressor(n_neighbors=3)\n",
        "neigh.fit(X_train,Y_train)"
      ]
    },
    {
      "cell_type": "code",
      "execution_count": 106,
      "metadata": {
        "id": "ybaOkTbSDSDV"
      },
      "outputs": [],
      "source": [
        "y_pred=neigh.predict(X_test)\n",
        "reshaped_data = y_pred.reshape(-1, 1)\n",
        "original_data = scaler.inverse_transform(reshaped_data)\n",
        "reshaped_datates = Y_test.reshape(-1, 1)\n",
        "actual_test = scaler.inverse_transform(reshaped_datates)\n",
        "# print(original_data)\n",
        "# print(actual_test)\n",
        "akhir1 = pd.DataFrame(original_data)\n",
        "akhir1.to_excel('prediksi.xlsx', index=False)\n",
        "akhir = pd.DataFrame(actual_test)\n",
        "akhir.to_excel('aktual.xlsx', index=False)"
      ]
    },
    {
      "cell_type": "code",
      "execution_count": 107,
      "metadata": {
        "colab": {
          "base_uri": "https://localhost:8080/"
        },
        "id": "g7rlGgVkDSDV",
        "outputId": "aa0eb4b6-f896-454b-ac77-1a84ac9a35ef"
      },
      "outputs": [
        {
          "output_type": "stream",
          "name": "stdout",
          "text": [
            "0.49484943336320125\n"
          ]
        }
      ],
      "source": [
        "from sklearn.metrics import mean_absolute_percentage_error\n",
        "mean_absolute_percentage_error(original_data, actual_test)\n",
        "print(mean_absolute_percentage_error(original_data, actual_test))"
      ]
    },
    {
      "cell_type": "markdown",
      "source": [
        "#skenario uji cona"
      ],
      "metadata": {
        "id": "w6_xwLDYHWIW"
      }
    },
    {
      "cell_type": "markdown",
      "source": [
        "##menggunakan 2 fitur dengan k 3,5,7"
      ],
      "metadata": {
        "id": "acc9RcZFHYsa"
      }
    },
    {
      "cell_type": "code",
      "source": [
        "from sklearn.neighbors import KNeighborsRegressor\n",
        "neigh = KNeighborsRegressor(n_neighbors=3)\n",
        "neigh.fit(X_train,Y_train)\n",
        "y_pred=neigh.predict(X_test)\n",
        "reshaped_data = y_pred.reshape(-1, 1)\n",
        "original_data = scaler.inverse_transform(reshaped_data)\n",
        "reshaped_datates = Y_test.reshape(-1, 1)\n",
        "actual_test = scaler.inverse_transform(reshaped_datates)\n",
        "# print(original_data)\n",
        "# print(actual_test)\n",
        "akhir1 = pd.DataFrame(original_data)\n",
        "akhir1.to_excel('prediksi.xlsx', index=False)\n",
        "akhir = pd.DataFrame(actual_test)\n",
        "akhir.to_excel('aktual.xlsx', index=False)\n",
        "from sklearn.metrics import mean_absolute_percentage_error\n",
        "mean_absolute_percentage_error(original_data, actual_test)\n",
        "print(mean_absolute_percentage_error(original_data, actual_test))"
      ],
      "metadata": {
        "colab": {
          "base_uri": "https://localhost:8080/"
        },
        "id": "ntjwAQRLG7cm",
        "outputId": "cfdfab83-854a-4ee3-e440-35a3250f3a36"
      },
      "execution_count": 108,
      "outputs": [
        {
          "output_type": "stream",
          "name": "stdout",
          "text": [
            "0.49484943336320125\n"
          ]
        }
      ]
    },
    {
      "cell_type": "code",
      "source": [
        "from sklearn.neighbors import KNeighborsRegressor\n",
        "neigh = KNeighborsRegressor(n_neighbors=5)\n",
        "neigh.fit(X_train,Y_train)\n",
        "y_pred=neigh.predict(X_test)\n",
        "reshaped_data = y_pred.reshape(-1, 1)\n",
        "original_data = scaler.inverse_transform(reshaped_data)\n",
        "reshaped_datates = Y_test.reshape(-1, 1)\n",
        "actual_test = scaler.inverse_transform(reshaped_datates)\n",
        "# print(original_data)\n",
        "# print(actual_test)\n",
        "akhir1 = pd.DataFrame(original_data)\n",
        "akhir1.to_excel('prediksi.xlsx', index=False)\n",
        "akhir = pd.DataFrame(actual_test)\n",
        "akhir.to_excel('aktual.xlsx', index=False)\n",
        "from sklearn.metrics import mean_absolute_percentage_error\n",
        "mean_absolute_percentage_error(original_data, actual_test)\n",
        "print(mean_absolute_percentage_error(original_data, actual_test))"
      ],
      "metadata": {
        "colab": {
          "base_uri": "https://localhost:8080/"
        },
        "outputId": "ca31736d-9621-466a-dfc2-5f22ad2bc06f",
        "id": "tgVmwrOeHILk"
      },
      "execution_count": 109,
      "outputs": [
        {
          "output_type": "stream",
          "name": "stdout",
          "text": [
            "0.5200773544567113\n"
          ]
        }
      ]
    },
    {
      "cell_type": "code",
      "source": [
        "from sklearn.neighbors import KNeighborsRegressor\n",
        "neigh = KNeighborsRegressor(n_neighbors=7)\n",
        "neigh.fit(X_train,Y_train)\n",
        "y_pred=neigh.predict(X_test)\n",
        "reshaped_data = y_pred.reshape(-1, 1)\n",
        "original_data = scaler.inverse_transform(reshaped_data)\n",
        "reshaped_datates = Y_test.reshape(-1, 1)\n",
        "actual_test = scaler.inverse_transform(reshaped_datates)\n",
        "# print(original_data)\n",
        "# print(actual_test)\n",
        "akhir1 = pd.DataFrame(original_data)\n",
        "akhir1.to_excel('prediksi.xlsx', index=False)\n",
        "akhir = pd.DataFrame(actual_test)\n",
        "akhir.to_excel('aktual.xlsx', index=False)\n",
        "from sklearn.metrics import mean_absolute_percentage_error\n",
        "mean_absolute_percentage_error(original_data, actual_test)\n",
        "print(mean_absolute_percentage_error(original_data, actual_test))"
      ],
      "metadata": {
        "colab": {
          "base_uri": "https://localhost:8080/"
        },
        "outputId": "55eea988-c379-45d7-c448-9a6354180535",
        "id": "aTdgS-zSHOuW"
      },
      "execution_count": 110,
      "outputs": [
        {
          "output_type": "stream",
          "name": "stdout",
          "text": [
            "0.5099399903041569\n"
          ]
        }
      ]
    },
    {
      "cell_type": "code",
      "source": [
        "from sklearn.neighbors import KNeighborsRegressor\n",
        "neigh = KNeighborsRegressor(n_neighbors=9)\n",
        "neigh.fit(X_train,Y_train)\n",
        "y_pred=neigh.predict(X_test)\n",
        "reshaped_data = y_pred.reshape(-1, 1)\n",
        "original_data = scaler.inverse_transform(reshaped_data)\n",
        "reshaped_datates = Y_test.reshape(-1, 1)\n",
        "actual_test = scaler.inverse_transform(reshaped_datates)\n",
        "# print(original_data)\n",
        "# print(actual_test)\n",
        "akhir1 = pd.DataFrame(original_data)\n",
        "akhir1.to_excel('prediksi.xlsx', index=False)\n",
        "akhir = pd.DataFrame(actual_test)\n",
        "akhir.to_excel('aktual.xlsx', index=False)\n",
        "from sklearn.metrics import mean_absolute_percentage_error\n",
        "mean_absolute_percentage_error(original_data, actual_test)\n",
        "print(mean_absolute_percentage_error(original_data, actual_test))"
      ],
      "metadata": {
        "colab": {
          "base_uri": "https://localhost:8080/"
        },
        "outputId": "efa573be-10f4-4933-9cb2-9bfb4410e1ed",
        "id": "8RyYBN_nJgXw"
      },
      "execution_count": 111,
      "outputs": [
        {
          "output_type": "stream",
          "name": "stdout",
          "text": [
            "0.5135035827782604\n"
          ]
        }
      ]
    },
    {
      "cell_type": "markdown",
      "source": [
        "##menggunakan 3 fitur dengan k 3,5,7"
      ],
      "metadata": {
        "id": "0KfTsJykHjKs"
      }
    },
    {
      "cell_type": "code",
      "source": [
        "from numpy import array\n",
        "df_X, df_Y = split_sequence(train, 3)\n",
        "# for i in range(len(df_X)):\n",
        "#   print(df_X[i], df_Y[i])\n",
        "x = pd.DataFrame(df_X, columns = ['xt-3','xt-2','xt-1'])\n",
        "y = pd.DataFrame(df_Y, columns = ['xt'])\n",
        "dataset_train = pd.concat([x, y], axis=1)\n",
        "dataset_train\n",
        "dataset_train.to_excel('data-train.xlsx', index=False)"
      ],
      "metadata": {
        "id": "r4bMbmu1Hx1Z"
      },
      "execution_count": 112,
      "outputs": []
    },
    {
      "cell_type": "code",
      "source": [
        "X_train = dataset_train.iloc[:, :3].values\n",
        "Y_train = dataset_train.iloc[:, -1].values\n",
        "X_train"
      ],
      "metadata": {
        "colab": {
          "base_uri": "https://localhost:8080/"
        },
        "id": "qyVBXjarIQnC",
        "outputId": "9a89b522-348b-405c-b8e3-223050b72657"
      },
      "execution_count": 113,
      "outputs": [
        {
          "output_type": "execute_result",
          "data": {
            "text/plain": [
              "array([[0.21260323, 0.35650542, 0.25803382],\n",
              "       [0.35650542, 0.25803382, 0.09342243],\n",
              "       [0.25803382, 0.09342243, 0.10958479],\n",
              "       [0.09342243, 0.10958479, 0.11365705],\n",
              "       [0.10958479, 0.11365705, 0.15247991],\n",
              "       [0.11365705, 0.15247991, 0.04083839],\n",
              "       [0.15247991, 0.04083839, 0.1973156 ],\n",
              "       [0.04083839, 0.1973156 , 0.24491761],\n",
              "       [0.1973156 , 0.24491761, 0.33565884],\n",
              "       [0.24491761, 0.33565884, 0.35635315],\n",
              "       [0.33565884, 0.35635315, 0.20158658],\n",
              "       [0.35635315, 0.20158658, 0.36890168],\n",
              "       [0.20158658, 0.36890168, 0.24875159],\n",
              "       [0.36890168, 0.24875159, 0.14832108],\n",
              "       [0.24875159, 0.14832108, 0.23328775],\n",
              "       [0.14832108, 0.23328775, 0.12582628],\n",
              "       [0.23328775, 0.12582628, 0.06766823],\n",
              "       [0.12582628, 0.06766823, 0.02269261],\n",
              "       [0.06766823, 0.02269261, 0.22170506],\n",
              "       [0.02269261, 0.22170506, 0.26341764],\n",
              "       [0.22170506, 0.26341764, 0.08671488],\n",
              "       [0.26341764, 0.08671488, 0.16642457],\n",
              "       [0.08671488, 0.16642457, 0.14395972],\n",
              "       [0.16642457, 0.14395972, 0.3205732 ],\n",
              "       [0.14395972, 0.3205732 , 0.15756991],\n",
              "       [0.3205732 , 0.15756991, 0.07800069],\n",
              "       [0.15756991, 0.07800069, 0.0315264 ],\n",
              "       [0.07800069, 0.0315264 , 0.0982335 ],\n",
              "       [0.0315264 , 0.0982335 , 0.08164792],\n",
              "       [0.0982335 , 0.08164792, 0.16848783],\n",
              "       [0.08164792, 0.16848783, 0.33590075],\n",
              "       [0.16848783, 0.33590075, 0.28530792],\n",
              "       [0.33590075, 0.28530792, 0.23656076],\n",
              "       [0.28530792, 0.23656076, 0.10858247],\n",
              "       [0.23656076, 0.10858247, 0.13900492],\n",
              "       [0.10858247, 0.13900492, 0.22739305],\n",
              "       [0.13900492, 0.22739305, 0.11553375],\n",
              "       [0.22739305, 0.11553375, 0.25074553],\n",
              "       [0.11553375, 0.25074553, 0.29356424],\n",
              "       [0.25074553, 0.29356424, 0.27176451],\n",
              "       [0.29356424, 0.27176451, 0.10949786],\n",
              "       [0.27176451, 0.10949786, 0.16608865],\n",
              "       [0.10949786, 0.16608865, 0.29372993],\n",
              "       [0.16608865, 0.29372993, 0.17279602],\n",
              "       [0.29372993, 0.17279602, 0.07435472],\n",
              "       [0.17279602, 0.07435472, 0.14072663],\n",
              "       [0.07435472, 0.14072663, 0.11654442],\n",
              "       [0.14072663, 0.11654442, 0.05712089],\n",
              "       [0.11654442, 0.05712089, 0.13442814],\n",
              "       [0.05712089, 0.13442814, 0.07947812],\n",
              "       [0.13442814, 0.07947812, 0.08135573],\n",
              "       [0.07947812, 0.08135573, 0.20623251],\n",
              "       [0.08135573, 0.20623251, 0.26840112],\n",
              "       [0.20623251, 0.26840112, 0.17485402],\n",
              "       [0.26840112, 0.17485402, 0.32128642],\n",
              "       [0.17485402, 0.32128642, 0.39480452],\n",
              "       [0.32128642, 0.39480452, 0.26217087],\n",
              "       [0.39480452, 0.26217087, 0.34183029],\n",
              "       [0.26217087, 0.34183029, 0.3752891 ],\n",
              "       [0.34183029, 0.3752891 , 0.13739155],\n",
              "       [0.3752891 , 0.13739155, 0.09873838],\n",
              "       [0.13739155, 0.09873838, 0.17830125],\n",
              "       [0.09873838, 0.17830125, 0.19305896],\n",
              "       [0.17830125, 0.19305896, 0.45748364],\n",
              "       [0.19305896, 0.45748364, 0.4335791 ],\n",
              "       [0.45748364, 0.4335791 , 0.16487744],\n",
              "       [0.4335791 , 0.16487744, 0.1726149 ],\n",
              "       [0.16487744, 0.1726149 , 0.21123667],\n",
              "       [0.1726149 , 0.21123667, 0.10316162],\n",
              "       [0.21123667, 0.10316162, 0.17330181],\n",
              "       [0.10316162, 0.17330181, 0.43041279],\n",
              "       [0.17330181, 0.43041279, 0.30874243],\n",
              "       [0.43041279, 0.30874243, 0.21457303],\n",
              "       [0.30874243, 0.21457303, 0.22828086],\n",
              "       [0.21457303, 0.22828086, 0.32784262],\n",
              "       [0.22828086, 0.32784262, 0.21047935],\n",
              "       [0.32784262, 0.21047935, 0.38616691],\n",
              "       [0.21047935, 0.38616691, 0.2516513 ],\n",
              "       [0.38616691, 0.2516513 , 0.14475878],\n",
              "       [0.2516513 , 0.14475878, 0.16351016],\n",
              "       [0.14475878, 0.16351016, 0.2728436 ],\n",
              "       [0.16351016, 0.2728436 , 0.16362558],\n",
              "       [0.2728436 , 0.16362558, 0.15455079],\n",
              "       [0.16362558, 0.15455079, 0.11013886],\n",
              "       [0.15455079, 0.11013886, 0.2491013 ],\n",
              "       [0.11013886, 0.2491013 , 0.18497469],\n",
              "       [0.2491013 , 0.18497469, 0.21389937],\n",
              "       [0.18497469, 0.21389937, 0.06914657],\n",
              "       [0.21389937, 0.06914657, 0.19226243],\n",
              "       [0.06914657, 0.19226243, 0.2204474 ],\n",
              "       [0.19226243, 0.2204474 , 0.26027439],\n",
              "       [0.2204474 , 0.26027439, 0.34548188],\n",
              "       [0.26027439, 0.34548188, 0.24448696],\n",
              "       [0.34548188, 0.24448696, 0.15934825],\n",
              "       [0.24448696, 0.15934825, 0.33333642],\n",
              "       [0.15934825, 0.33333642, 0.42031608],\n",
              "       [0.33333642, 0.42031608, 0.33938664],\n",
              "       [0.42031608, 0.33938664, 0.21820556],\n",
              "       [0.33938664, 0.21820556, 0.23745365],\n",
              "       [0.21820556, 0.23745365, 0.07569805],\n",
              "       [0.23745365, 0.07569805, 0.12429549],\n",
              "       [0.07569805, 0.12429549, 0.06775643],\n",
              "       [0.12429549, 0.06775643, 0.15047127],\n",
              "       [0.06775643, 0.15047127, 0.27711531],\n",
              "       [0.15047127, 0.27711531, 0.19900773],\n",
              "       [0.27711531, 0.19900773, 0.17532278],\n",
              "       [0.19900773, 0.17532278, 0.08058716],\n",
              "       [0.17532278, 0.08058716, 0.36696999],\n",
              "       [0.08058716, 0.36696999, 0.31021243],\n",
              "       [0.36696999, 0.31021243, 0.11203225],\n",
              "       [0.31021243, 0.11203225, 0.07023002],\n",
              "       [0.11203225, 0.07023002, 0.20196134],\n",
              "       [0.07023002, 0.20196134, 0.18819526],\n",
              "       [0.20196134, 0.18819526, 0.2053545 ],\n",
              "       [0.18819526, 0.2053545 , 0.24369316],\n",
              "       [0.2053545 , 0.24369316, 0.31038846],\n",
              "       [0.24369316, 0.31038846, 0.25649703],\n",
              "       [0.31038846, 0.25649703, 0.93836512],\n",
              "       [0.25649703, 0.93836512, 0.40615799],\n",
              "       [0.93836512, 0.40615799, 0.28383738],\n",
              "       [0.40615799, 0.28383738, 0.08145228],\n",
              "       [0.28383738, 0.08145228, 0.19553563],\n",
              "       [0.08145228, 0.19553563, 0.38065532],\n",
              "       [0.19553563, 0.38065532, 0.20095938],\n",
              "       [0.38065532, 0.20095938, 0.29035565],\n",
              "       [0.20095938, 0.29035565, 0.17422446],\n",
              "       [0.29035565, 0.17422446, 0.27340547],\n",
              "       [0.17422446, 0.27340547, 0.28618647],\n",
              "       [0.27340547, 0.28618647, 0.23070127],\n",
              "       [0.28618647, 0.23070127, 1.        ],\n",
              "       [0.23070127, 1.        , 0.071465  ],\n",
              "       [1.        , 0.071465  , 0.06368271],\n",
              "       [0.071465  , 0.06368271, 0.05026435],\n",
              "       [0.06368271, 0.05026435, 0.07938049],\n",
              "       [0.05026435, 0.07938049, 0.01772982],\n",
              "       [0.07938049, 0.01772982, 0.        ],\n",
              "       [0.01772982, 0.        , 0.05542931],\n",
              "       [0.        , 0.05542931, 0.13489763],\n",
              "       [0.05542931, 0.13489763, 0.11453216],\n",
              "       [0.13489763, 0.11453216, 0.25137055],\n",
              "       [0.11453216, 0.25137055, 0.10275293],\n",
              "       [0.25137055, 0.10275293, 0.09356344],\n",
              "       [0.10275293, 0.09356344, 0.26222222],\n",
              "       [0.09356344, 0.26222222, 0.45109168],\n",
              "       [0.26222222, 0.45109168, 0.2401922 ],\n",
              "       [0.45109168, 0.2401922 , 0.22246674],\n",
              "       [0.2401922 , 0.22246674, 0.4336114 ],\n",
              "       [0.22246674, 0.4336114 , 0.3049413 ],\n",
              "       [0.4336114 , 0.3049413 , 0.30363046],\n",
              "       [0.3049413 , 0.30363046, 0.16516799],\n",
              "       [0.30363046, 0.16516799, 0.23336651],\n",
              "       [0.16516799, 0.23336651, 0.19417833],\n",
              "       [0.23336651, 0.19417833, 0.24399242],\n",
              "       [0.19417833, 0.24399242, 0.13361202],\n",
              "       [0.24399242, 0.13361202, 0.13149631],\n",
              "       [0.13361202, 0.13149631, 0.06965908],\n",
              "       [0.13149631, 0.06965908, 0.07336964],\n",
              "       [0.06965908, 0.07336964, 0.12750753],\n",
              "       [0.07336964, 0.12750753, 0.2444581 ],\n",
              "       [0.12750753, 0.2444581 , 0.25841366],\n",
              "       [0.2444581 , 0.25841366, 0.42912736],\n",
              "       [0.25841366, 0.42912736, 0.250931  ],\n",
              "       [0.42912736, 0.250931  , 0.18480664],\n",
              "       [0.250931  , 0.18480664, 0.28111244],\n",
              "       [0.18480664, 0.28111244, 0.1774619 ],\n",
              "       [0.28111244, 0.1774619 , 0.17665758],\n",
              "       [0.1774619 , 0.17665758, 0.22688508],\n",
              "       [0.17665758, 0.22688508, 0.24285762],\n",
              "       [0.22688508, 0.24285762, 0.24965573],\n",
              "       [0.24285762, 0.24965573, 0.18327493],\n",
              "       [0.24965573, 0.18327493, 0.14049216],\n",
              "       [0.18327493, 0.14049216, 0.07438376],\n",
              "       [0.14049216, 0.07438376, 0.04788404],\n",
              "       [0.07438376, 0.04788404, 0.10968406],\n",
              "       [0.04788404, 0.10968406, 0.08139693],\n",
              "       [0.10968406, 0.08139693, 0.02856154],\n",
              "       [0.08139693, 0.02856154, 0.11568855],\n",
              "       [0.02856154, 0.11568855, 0.17342975],\n",
              "       [0.11568855, 0.17342975, 0.00513266],\n",
              "       [0.17342975, 0.00513266, 0.08409428],\n",
              "       [0.00513266, 0.08409428, 0.41658028],\n",
              "       [0.08409428, 0.41658028, 0.13066204],\n",
              "       [0.41658028, 0.13066204, 0.02866825],\n",
              "       [0.13066204, 0.02866825, 0.07476288],\n",
              "       [0.02866825, 0.07476288, 0.06299381],\n",
              "       [0.07476288, 0.06299381, 0.12408352],\n",
              "       [0.06299381, 0.12408352, 0.14915045],\n",
              "       [0.12408352, 0.14915045, 0.06527648],\n",
              "       [0.14915045, 0.06527648, 0.1480151 ],\n",
              "       [0.06527648, 0.1480151 , 0.1146748 ],\n",
              "       [0.1480151 , 0.1146748 , 0.27015913],\n",
              "       [0.1146748 , 0.27015913, 0.11647491],\n",
              "       [0.27015913, 0.11647491, 0.20399121],\n",
              "       [0.11647491, 0.20399121, 0.40683074],\n",
              "       [0.20399121, 0.40683074, 0.12748756]])"
            ]
          },
          "metadata": {},
          "execution_count": 113
        }
      ]
    },
    {
      "cell_type": "code",
      "source": [
        "test_x, test_y = split_sequence(test, 3)\n",
        "# for i in range(len(test_x)):\n",
        "#   print(test_x[i], test_y[i])\n",
        "x = pd.DataFrame(test_x, columns = ['xt-3','xt-2','xt-1'])\n",
        "y = pd.DataFrame(test_y, columns = ['xt'])\n",
        "dataset_test = pd.concat([x, y], axis=1)\n",
        "dataset_test\n",
        "dataset_test.to_excel('data-test.xlsx', index=False)"
      ],
      "metadata": {
        "id": "PCNwSI8VIjC6"
      },
      "execution_count": 114,
      "outputs": []
    },
    {
      "cell_type": "code",
      "source": [
        "X_test = dataset_test.iloc[:, :3].values\n",
        "Y_test = dataset_test.iloc[:, -1].values\n",
        "X_test\n",
        "# print(len(X_test))"
      ],
      "metadata": {
        "colab": {
          "base_uri": "https://localhost:8080/"
        },
        "id": "1t14NV9-Iyzi",
        "outputId": "5a97c2b0-133b-4d3b-f331-8bf7710fcb39"
      },
      "execution_count": 115,
      "outputs": [
        {
          "output_type": "execute_result",
          "data": {
            "text/plain": [
              "array([[0.40383739, 0.18392064, 0.11185785],\n",
              "       [0.18392064, 0.11185785, 0.1782499 ],\n",
              "       [0.11185785, 0.1782499 , 0.10029767],\n",
              "       [0.1782499 , 0.10029767, 0.21411297],\n",
              "       [0.10029767, 0.21411297, 0.16320727],\n",
              "       [0.21411297, 0.16320727, 0.08078951],\n",
              "       [0.16320727, 0.08078951, 0.13744563],\n",
              "       [0.08078951, 0.13744563, 0.08063434],\n",
              "       [0.13744563, 0.08063434, 0.02777699],\n",
              "       [0.08063434, 0.02777699, 0.0430011 ],\n",
              "       [0.02777699, 0.0430011 , 0.27450652],\n",
              "       [0.0430011 , 0.27450652, 0.17730492],\n",
              "       [0.27450652, 0.17730492, 0.2658994 ],\n",
              "       [0.17730492, 0.2658994 , 0.14092063],\n",
              "       [0.2658994 , 0.14092063, 0.09467265],\n",
              "       [0.14092063, 0.09467265, 0.4169623 ],\n",
              "       [0.09467265, 0.4169623 , 0.14947911],\n",
              "       [0.4169623 , 0.14947911, 0.37808173],\n",
              "       [0.14947911, 0.37808173, 0.07379939],\n",
              "       [0.37808173, 0.07379939, 0.25397154],\n",
              "       [0.07379939, 0.25397154, 0.17585706],\n",
              "       [0.25397154, 0.17585706, 0.25229265],\n",
              "       [0.17585706, 0.25229265, 0.11655295],\n",
              "       [0.25229265, 0.11655295, 0.10781118],\n",
              "       [0.11655295, 0.10781118, 0.11757905],\n",
              "       [0.10781118, 0.11757905, 0.07629059],\n",
              "       [0.11757905, 0.07629059, 0.08900698],\n",
              "       [0.07629059, 0.08900698, 0.21805257],\n",
              "       [0.08900698, 0.21805257, 0.05449903],\n",
              "       [0.21805257, 0.05449903, 0.13112645],\n",
              "       [0.05449903, 0.13112645, 0.25786885],\n",
              "       [0.13112645, 0.25786885, 0.21609856],\n",
              "       [0.25786885, 0.21609856, 0.38414249],\n",
              "       [0.21609856, 0.38414249, 0.26107   ],\n",
              "       [0.38414249, 0.26107   , 0.32813789],\n",
              "       [0.26107   , 0.32813789, 0.20039534],\n",
              "       [0.32813789, 0.20039534, 0.14784923],\n",
              "       [0.20039534, 0.14784923, 0.04316008],\n",
              "       [0.14784923, 0.04316008, 1.55143436],\n",
              "       [0.04316008, 1.55143436, 0.38454356],\n",
              "       [1.55143436, 0.38454356, 0.0879063 ],\n",
              "       [0.38454356, 0.0879063 , 0.19381464],\n",
              "       [0.0879063 , 0.19381464, 0.08931242],\n",
              "       [0.19381464, 0.08931242, 0.06110459],\n",
              "       [0.08931242, 0.06110459, 0.08844149],\n",
              "       [0.06110459, 0.08844149, 0.11841713],\n",
              "       [0.08844149, 0.11841713, 0.06452842]])"
            ]
          },
          "metadata": {},
          "execution_count": 115
        }
      ]
    },
    {
      "cell_type": "code",
      "source": [
        "from sklearn.neighbors import KNeighborsRegressor\n",
        "neigh = KNeighborsRegressor(n_neighbors=3)\n",
        "neigh.fit(X_train,Y_train)\n",
        "y_pred=neigh.predict(X_test)\n",
        "reshaped_data = y_pred.reshape(-1, 1)\n",
        "original_data = scaler.inverse_transform(reshaped_data)\n",
        "reshaped_datates = Y_test.reshape(-1, 1)\n",
        "actual_test = scaler.inverse_transform(reshaped_datates)\n",
        "# print(original_data)\n",
        "# print(actual_test)\n",
        "akhir1 = pd.DataFrame(original_data)\n",
        "akhir1.to_excel('prediksi.xlsx', index=False)\n",
        "akhir = pd.DataFrame(actual_test)\n",
        "akhir.to_excel('aktual.xlsx', index=False)\n",
        "from sklearn.metrics import mean_absolute_percentage_error\n",
        "mean_absolute_percentage_error(original_data, actual_test)\n",
        "print(mean_absolute_percentage_error(original_data, actual_test))"
      ],
      "metadata": {
        "colab": {
          "base_uri": "https://localhost:8080/"
        },
        "id": "g1v5wciUJF9y",
        "outputId": "4a7488f4-23d5-4dc0-fc0b-1fbd0b55dd96"
      },
      "execution_count": 116,
      "outputs": [
        {
          "output_type": "stream",
          "name": "stdout",
          "text": [
            "0.5413937510949269\n"
          ]
        }
      ]
    },
    {
      "cell_type": "code",
      "source": [
        "from sklearn.neighbors import KNeighborsRegressor\n",
        "neigh = KNeighborsRegressor(n_neighbors=5)\n",
        "neigh.fit(X_train,Y_train)\n",
        "y_pred=neigh.predict(X_test)\n",
        "reshaped_data = y_pred.reshape(-1, 1)\n",
        "original_data = scaler.inverse_transform(reshaped_data)\n",
        "reshaped_datates = Y_test.reshape(-1, 1)\n",
        "actual_test = scaler.inverse_transform(reshaped_datates)\n",
        "# print(original_data)\n",
        "# print(actual_test)\n",
        "akhir1 = pd.DataFrame(original_data)\n",
        "akhir1.to_excel('prediksi.xlsx', index=False)\n",
        "akhir = pd.DataFrame(actual_test)\n",
        "akhir.to_excel('aktual.xlsx', index=False)\n",
        "from sklearn.metrics import mean_absolute_percentage_error\n",
        "mean_absolute_percentage_error(original_data, actual_test)\n",
        "print(mean_absolute_percentage_error(original_data, actual_test))"
      ],
      "metadata": {
        "colab": {
          "base_uri": "https://localhost:8080/"
        },
        "outputId": "2f10c36f-eb8b-45e1-b81d-87cdee917169",
        "id": "j5sucoUzJOz4"
      },
      "execution_count": 117,
      "outputs": [
        {
          "output_type": "stream",
          "name": "stdout",
          "text": [
            "0.5016098004648619\n"
          ]
        }
      ]
    },
    {
      "cell_type": "code",
      "source": [],
      "metadata": {
        "id": "Jf8YKBqCJTMK"
      },
      "execution_count": null,
      "outputs": []
    },
    {
      "cell_type": "code",
      "source": [
        "from sklearn.neighbors import KNeighborsRegressor\n",
        "neigh = KNeighborsRegressor(n_neighbors=7)\n",
        "neigh.fit(X_train,Y_train)\n",
        "y_pred=neigh.predict(X_test)\n",
        "reshaped_data = y_pred.reshape(-1, 1)\n",
        "original_data = scaler.inverse_transform(reshaped_data)\n",
        "reshaped_datates = Y_test.reshape(-1, 1)\n",
        "actual_test = scaler.inverse_transform(reshaped_datates)\n",
        "# print(original_data)\n",
        "# print(actual_test)\n",
        "akhir1 = pd.DataFrame(original_data)\n",
        "akhir1.to_excel('prediksi.xlsx', index=False)\n",
        "akhir = pd.DataFrame(actual_test)\n",
        "akhir.to_excel('aktual.xlsx', index=False)\n",
        "from sklearn.metrics import mean_absolute_percentage_error\n",
        "mean_absolute_percentage_error(original_data, actual_test)\n",
        "print(mean_absolute_percentage_error(original_data, actual_test))"
      ],
      "metadata": {
        "colab": {
          "base_uri": "https://localhost:8080/"
        },
        "outputId": "b804667a-321a-459f-95ff-58353ddbc0d3",
        "id": "tKpyTI4-JTh1"
      },
      "execution_count": 118,
      "outputs": [
        {
          "output_type": "stream",
          "name": "stdout",
          "text": [
            "0.4828912208315826\n"
          ]
        }
      ]
    },
    {
      "cell_type": "code",
      "source": [],
      "metadata": {
        "id": "zOBuR-5aJXl7"
      },
      "execution_count": null,
      "outputs": []
    },
    {
      "cell_type": "code",
      "source": [
        "from sklearn.neighbors import KNeighborsRegressor\n",
        "neigh = KNeighborsRegfitur dengan k 3,5,7)\n",
        "neigh.fit(X_train,Y_train)\n",
        "y_pred=neigh.predict(X_test)\n",
        "reshaped_data = y_pred.reshape(-1, 1)\n",
        "original_data = scaler.inverse_transform(reshaped_data)\n",
        "reshaped_datates = Y_test.reshape(-1, 1)\n",
        "actual_test = scaler.inverse_transform(reshaped_datates)\n",
        "# print(original_data)\n",
        "# print(actual_test)\n",
        "akhir1 = pd.DataFrame(original_data)\n",
        "akhir1.to_excel('prediksi.xlsx', index=False)\n",
        "akhir = pd.DataFrame(actual_test)\n",
        "akhir.to_excel('aktual.xlsx', index=False)\n",
        "from sklearn.metrics import mean_absolute_percentage_error\n",
        "mean_absolute_percentage_error(original_data, actual_test)\n",
        "print(mean_absolute_percentage_error(original_data, actual_test))"
      ],
      "metadata": {
        "colab": {
          "base_uri": "https://localhost:8080/"
        },
        "outputId": "7bae5fdc-3dee-4b0c-f2f4-5b51da1c4bf0",
        "id": "S949kwIqJX2O"
      },
      "execution_count": 39,
      "outputs": [
        {
          "output_type": "stream",
          "name": "stdout",
          "text": [
            "0.48449003098094895\n"
          ]
        }
      ]
    }
  ],
  "metadata": {
    "language_info": {
      "name": "python"
    },
    "orig_nbformat": 4,
    "colab": {
      "provenance": []
    },
    "kernelspec": {
      "name": "python3",
      "display_name": "Python 3"
    }
  },
  "nbformat": 4,
  "nbformat_minor": 0
}